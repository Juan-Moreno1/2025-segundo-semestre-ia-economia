{
  "cells": [
    {
      "cell_type": "markdown",
      "source": [
        "<a href=\"https://colab.research.google.com/github/LinaMariaCastro/curso-ia-para-economia/blob/main/clases/4_Aprendizaje_no_supervisado/2_Solucion_Taller_Apriori.ipynb\" target=\"_parent\"><img src=\"https://colab.research.google.com/assets/colab-badge.svg\" alt=\"Open In Colab\"/></a>\n",
        "\n"
      ],
      "metadata": {
        "id": "DHNQuIqAmvl5"
      }
    },
    {
      "cell_type": "markdown",
      "source": [
        "# **Inteligencia Artificial con Aplicaciones en Economía I**\n",
        "\n",
        "- 👩‍🏫 **Profesora:** [Lina María Castro](https://www.linkedin.com/in/lina-maria-castro)  \n",
        "- 📧 **Email:** [lmcastroco@gmail.com](mailto:lmcastroco@gmail.com)  \n",
        "- 🎓 **Universidad:** Universidad Externado de Colombia - Facultad de Economía"
      ],
      "metadata": {
        "id": "5iiwfbXCQv5D"
      }
    },
    {
      "cell_type": "markdown",
      "source": [
        "# **Taller: Análisis de Patrones de Consumo Internacional con Apriori**"
      ],
      "metadata": {
        "id": "0rfIMoBmE1Ap"
      }
    },
    {
      "cell_type": "markdown",
      "source": [
        "**IMPORTANTE**: Guarda una copia de este notebook en tu Google Drive o computador."
      ],
      "metadata": {
        "id": "0dQjQRRI-Jwh"
      }
    },
    {
      "cell_type": "markdown",
      "source": [
        "**Taller en parejas**"
      ],
      "metadata": {
        "id": "q_CzcRIty0sF"
      }
    },
    {
      "cell_type": "markdown",
      "source": [
        "**Nombres estudiantes:**\n",
        "\n",
        "-\n",
        "-"
      ],
      "metadata": {
        "id": "NyfFoG84-DmF"
      }
    },
    {
      "cell_type": "markdown",
      "source": [
        "**Forma de entrega**\n",
        "\n",
        "Jupyter Notebook publicado en su cuenta de Github con el nombre “Taller_Apriori_apellidos_estudiantes.ipynb”.\n",
        "\n",
        "**Plazo de entrega**\n",
        "\n",
        "Hoy, 16 de octubre, máximo a las 11:59 p.m., debes enviar link del notebook al correo lina.castro6@uexternado.edu.co, de lo contrario, no será tenido en cuenta.\n",
        "\n",
        "**Instrucciones Generales**\n",
        "\n",
        "Completa el código en las celdas marcadas con `### TU CÓDIGO AQUÍ ###`. Puedes añadir más celdas si lo requieres."
      ],
      "metadata": {
        "id": "KcbzsUiz025j"
      }
    },
    {
      "cell_type": "markdown",
      "source": [
        "**Caso de Estudio: Consultoría para el PNUD**\n",
        "\n",
        "**Contexto:** Una firma multinacional de e-commerce, \"Global Retail Inc.\", te ha contratado como consultor de datos. La empresa opera en múltiples países y ha notado que sus ventas y la efectividad de sus campañas de marketing varían significativamente entre regiones. Su hipótesis es que los patrones de compra y las asociaciones de productos son diferentes en cada mercado.\n",
        "\n",
        "**Tu Misión:** Analizar el historial de transacciones de la empresa para descubrir y comparar las reglas de asociación de productos para dos de sus mercados más grandes: el Reino Unido y Alemania. Tu objetivo final es entregar recomendaciones de negocio accionables (ej. estrategias de cross-selling, promociones personalizadas) basadas en los patrones de consumo que descubras en cada país.\n",
        "\n",
        "**Dataset:** Online Retail Data Set del repositorio de UCI. Encuentra mayor información en: https://archive.ics.uci.edu/dataset/352/online+retail"
      ],
      "metadata": {
        "id": "fIYF9RZrFx0F"
      }
    },
    {
      "cell_type": "markdown",
      "source": [
        "## Ejercicio 1: Configuración Inicial, Carga y Exploración de Datos"
      ],
      "metadata": {
        "id": "M35O8HzlGna7"
      }
    },
    {
      "cell_type": "markdown",
      "source": [
        "1.1 Importa las librerías necesarias"
      ],
      "metadata": {
        "id": "tx670zdlNtvQ"
      }
    },
    {
      "cell_type": "code",
      "source": [
        "### TU CÓDIGO AQUÍ ###\n",
        "\n",
        "import warnings\n",
        "warnings.filterwarnings('ignore')"
      ],
      "metadata": {
        "id": "z8OKVbSJE3-k"
      },
      "execution_count": null,
      "outputs": []
    },
    {
      "cell_type": "code",
      "source": [
        "# Configuraciones de visualización\n",
        "pd.options.display.max_columns = None\n",
        "pd.options.display.float_format = '{:,.2f}'.format"
      ],
      "metadata": {
        "id": "UphwYfZpGXsk"
      },
      "execution_count": null,
      "outputs": []
    },
    {
      "cell_type": "markdown",
      "source": [
        "1.2 Carga el dataset \"retail_top30_products.csv\" que se encuentra en el repositorio del curso, carpeta \"datasets\"."
      ],
      "metadata": {
        "id": "CMbWKnltN_50"
      }
    },
    {
      "cell_type": "code",
      "execution_count": null,
      "metadata": {
        "id": "KYRaLbXlMc_c"
      },
      "outputs": [],
      "source": [
        "### TU CÓDIGO AQUÍ ###\n"
      ]
    },
    {
      "cell_type": "code",
      "source": [
        "print(\"Dimensiones del DataFrame:\")\n",
        "print(df.shape)"
      ],
      "metadata": {
        "id": "196LBPXYyeNu"
      },
      "execution_count": null,
      "outputs": []
    },
    {
      "cell_type": "code",
      "source": [
        "print(\"\\nInformación general del DataFrame:\")\n",
        "df.info()"
      ],
      "metadata": {
        "id": "OrfRrLb3yhNG"
      },
      "execution_count": null,
      "outputs": []
    },
    {
      "cell_type": "markdown",
      "source": [
        "1.3 Revisa si hay valores nulos en alguna columna y cuántos son"
      ],
      "metadata": {
        "id": "BRmQ0Z34OiP4"
      }
    },
    {
      "cell_type": "code",
      "source": [
        "### TU CÓDIGO AQUÍ ###\n"
      ],
      "metadata": {
        "id": "luFSwi1X6sPx"
      },
      "execution_count": null,
      "outputs": []
    },
    {
      "cell_type": "markdown",
      "source": [
        "1.4 Genera las estadísticas descriptivas de las variables numéricas"
      ],
      "metadata": {
        "id": "CxckL193Ooze"
      }
    },
    {
      "cell_type": "code",
      "source": [
        "### TU CÓDIGO AQUÍ ###\n"
      ],
      "metadata": {
        "id": "MxivjnRq6Rqr"
      },
      "execution_count": null,
      "outputs": []
    },
    {
      "cell_type": "markdown",
      "source": [
        "1.5 Observando las salidas del ejercicio anterior, ¿qué problemas potenciales identificas en las columnas Description, CustomerID y Quantity? ¿Ves algo inusual en los precios (UnitPrice)?"
      ],
      "metadata": {
        "id": "Z1hOgV3Myw3i"
      }
    },
    {
      "cell_type": "markdown",
      "source": [
        "## Ejercicio 2: Limpieza y Preprocesamiento de Datos"
      ],
      "metadata": {
        "id": "dtJB9TCPzHay"
      }
    },
    {
      "cell_type": "markdown",
      "source": [
        "Los datos del mundo real rara vez son perfectos. Antes de cualquier análisis, debemos \"sanear\" nuestro dataset. Completa el código en cada paso según las instrucciones."
      ],
      "metadata": {
        "id": "P6VAx2GRzLMN"
      }
    },
    {
      "cell_type": "markdown",
      "source": [
        "2.1 **Manejo de Valores Nulos**: Las transacciones sin un CustomerID no son útiles para nosotros, ya que no podemos agrupar las compras de un cliente específico."
      ],
      "metadata": {
        "id": "_pwltoB1zT0W"
      }
    },
    {
      "cell_type": "code",
      "source": [
        "# TAREA: Elimina todas las filas donde 'CustomerID' es nulo.\n",
        "### TU CÓDIGO AQUÍ ###\n"
      ],
      "metadata": {
        "id": "U-sj4by7zc7D"
      },
      "execution_count": null,
      "outputs": []
    },
    {
      "cell_type": "code",
      "source": [
        "# El tipo de dato de CustomerID debe ser entero\n",
        "### TU CÓDIGO AQUÍ ###\n"
      ],
      "metadata": {
        "id": "eE2uAM_CzeQX"
      },
      "execution_count": null,
      "outputs": []
    },
    {
      "cell_type": "markdown",
      "source": [
        "2.2 **Limpieza de Descripciones de Productos** Las descripciones pueden tener espacios en blanco al inicio o al final que podrían hacer que un mismo producto se cuente como dos diferentes."
      ],
      "metadata": {
        "id": "692DcQzY0BPf"
      }
    },
    {
      "cell_type": "code",
      "source": [
        "# TAREA: Limpia la columna 'Description' eliminando espacios extra al inicio y al final.\n",
        "### TU CÓDIGO AQUÍ ###\n"
      ],
      "metadata": {
        "id": "sMIVCo1xHBkW"
      },
      "execution_count": null,
      "outputs": []
    },
    {
      "cell_type": "markdown",
      "source": [
        "2.3 **Filtrado de Transacciones Anómalas**: Las facturas (InvoiceNo) que empiezan con 'C' indican una cancelación. Estas no son compras reales y deben ser eliminadas. Del mismo modo, las cantidades (Quantity) negativas representan devoluciones."
      ],
      "metadata": {
        "id": "IVstEafz0Izp"
      }
    },
    {
      "cell_type": "code",
      "source": [
        "# TAREA: Elimina las filas que correspondan a cancelaciones.\n",
        "### TU CÓDIGO AQUÍ ###\n"
      ],
      "metadata": {
        "id": "DelzC1r173Dl"
      },
      "execution_count": null,
      "outputs": []
    },
    {
      "cell_type": "code",
      "source": [
        "# TAREA: Elimina las filas con cantidades negativas.\n",
        "### TU CÓDIGO AQUÍ ###\n"
      ],
      "metadata": {
        "id": "3N3k0nRr0JIY"
      },
      "execution_count": null,
      "outputs": []
    },
    {
      "cell_type": "code",
      "source": [
        "# NO MODIFICAR ESTA CELDA\n",
        "assert df_limpio['Quantity'].min() > 0, \"Error: Todavía hay cantidades negativas.\"\n",
        "assert df_limpio['CustomerID'].isnull().sum() == 0, \"Error: Aún hay valores nulos en CustomerID.\"\n",
        "assert df_limpio[df_limpio['InvoiceNo'].str.contains('C')].empty, \"Error: Todavía hay facturas de cancelación.\"\n",
        "print(\"¡La limpieza básica ha sido exitosa!\")"
      ],
      "metadata": {
        "id": "aESz8rfa0eXf"
      },
      "execution_count": null,
      "outputs": []
    },
    {
      "cell_type": "markdown",
      "source": [
        "## Ejercicio 3: Análisis Comparativo por País"
      ],
      "metadata": {
        "id": "dhIoMfZbHRWd"
      }
    },
    {
      "cell_type": "markdown",
      "source": [
        "Ahora que los datos están limpios, vamos a segmentarlos y a aplicar el algoritmo Apriori para encontrar los patrones de compra en el Reino Unido y Alemania."
      ],
      "metadata": {
        "id": "bJwjCIjB0nXg"
      }
    },
    {
      "cell_type": "markdown",
      "source": [
        "**Preparación de la Cesta de Mercado (Función)**\n",
        "\n",
        "La siguiente función toma un dataframe, lo agrupa por factura y descripción, y lo transforma en el formato de matriz binaria que necesita el algoritmo Apriori. Estudia esta función, no necesitas modificarla."
      ],
      "metadata": {
        "id": "O5KneUa30s11"
      }
    },
    {
      "cell_type": "code",
      "source": [
        "# NO MODIFICAR ESTA CELDA\n",
        "def preparar_cesta(dataframe, pais):\n",
        "    \"\"\"Filtra por país y prepara la matriz de transacciones.\"\"\"\n",
        "\n",
        "    # Filtrar por el país de interés\n",
        "    df_pais = dataframe[dataframe['Country'] == pais]\n",
        "\n",
        "    # Crear la cesta: agrupar productos por factura\n",
        "    cesta = (df_pais.groupby(['InvoiceNo', 'Description'])['Quantity']\n",
        "             .sum().unstack().reset_index().fillna(0)\n",
        "             .set_index('InvoiceNo'))\n",
        "\n",
        "    # Convertir todas las cantidades positivas a 1 y todo lo demás a 0\n",
        "    def encode_units(x):\n",
        "        if x <= 0:\n",
        "            return 0\n",
        "        if x >= 1:\n",
        "            return 1\n",
        "\n",
        "    cesta_encoded = cesta.applymap(encode_units)\n",
        "    return cesta_encoded"
      ],
      "metadata": {
        "id": "h4yMVnI706-4"
      },
      "execution_count": null,
      "outputs": []
    },
    {
      "cell_type": "markdown",
      "source": [
        "3.1 Análisis para el Reino Unido (United Kingdom)"
      ],
      "metadata": {
        "id": "5lCQgW_Gw4GZ"
      }
    },
    {
      "cell_type": "code",
      "source": [
        "# TAREA: Usa la función preparar_cesta para obtener la matriz de transacciones del Reino Unido.\n",
        "### TU CÓDIGO AQUÍ ###\n"
      ],
      "metadata": {
        "id": "bLs61PokHby6"
      },
      "execution_count": null,
      "outputs": []
    },
    {
      "cell_type": "code",
      "source": [
        "# TAREA: Aplica el algoritmo apriori para encontrar itemsets con un soporte mínimo de 2%.\n",
        "### TU CÓDIGO AQUÍ ###\n"
      ],
      "metadata": {
        "id": "JC0fCoyj1b0f"
      },
      "execution_count": null,
      "outputs": []
    },
    {
      "cell_type": "code",
      "source": [
        "# TAREA: Genera las reglas de asociación. Queremos reglas con un Lift mayor a 3.\n",
        "### TU CÓDIGO AQUÍ ###\n"
      ],
      "metadata": {
        "id": "l7FjceUa1fJH"
      },
      "execution_count": null,
      "outputs": []
    },
    {
      "cell_type": "code",
      "source": [
        "# Ordena las reglas por Lift y Confianza de mayor a menor\n",
        "### TU CÓDIGO AQUÍ ###\n"
      ],
      "metadata": {
        "id": "m5kCHUCc1kHB"
      },
      "execution_count": null,
      "outputs": []
    },
    {
      "cell_type": "markdown",
      "source": [
        "3.3 Observa las 3 reglas con el Lift más alto para el Reino Unido (1, 3 y 5). **Interprétalas:** ¿Qué te dicen estas asociaciones? ¿Qué tipo de productos son?"
      ],
      "metadata": {
        "id": "cAGw2_yV1sxd"
      }
    },
    {
      "cell_type": "markdown",
      "source": [
        "3.4 Interpreta el Soporte para el antecedente y el consecuente, la Confianza y el Lift"
      ],
      "metadata": {
        "id": "69bisfMiTkBJ"
      }
    },
    {
      "cell_type": "markdown",
      "source": [
        "3.5 **Recomendación de Negocio:** Basado en estas reglas, ¿qué promoción o estrategia de venta específica podrías sugerir para el mercado del Reino Unido?"
      ],
      "metadata": {
        "id": "rl2T5pW-3Wh6"
      }
    },
    {
      "cell_type": "markdown",
      "source": [
        "3.6 Análisis para Alemania (Germany)"
      ],
      "metadata": {
        "id": "wz2wb9vF17lw"
      }
    },
    {
      "cell_type": "code",
      "source": [
        "# TAREA: Usa la función preparar_cesta para obtener la matriz de transacciones de Alemania.\n",
        "### TU CÓDIGO AQUÍ ###\n"
      ],
      "metadata": {
        "id": "0PxydrOH18j_"
      },
      "execution_count": null,
      "outputs": []
    },
    {
      "cell_type": "code",
      "source": [
        "# TAREA: Aplica el algoritmo apriori con un soporte mínimo del 2%.\n",
        "### TU CÓDIGO AQUÍ ###\n"
      ],
      "metadata": {
        "id": "Kw4X54GI1-zH"
      },
      "execution_count": null,
      "outputs": []
    },
    {
      "cell_type": "code",
      "source": [
        "# TAREA: Genera las reglas de asociación con un Lift mayor a 3.\n",
        "### TU CÓDIGO AQUÍ ###\n"
      ],
      "metadata": {
        "id": "GTlIxDKe2B6E"
      },
      "execution_count": null,
      "outputs": []
    },
    {
      "cell_type": "code",
      "source": [
        "# Ordena las reglas por Lift y Confianza de mayor a menor\n",
        "### TU CÓDIGO AQUÍ ###\n"
      ],
      "metadata": {
        "id": "i-vSQNmU2Fbu"
      },
      "execution_count": null,
      "outputs": []
    },
    {
      "cell_type": "markdown",
      "source": [
        "3.7 Observa las 3 reglas con el Lift más alto para Alemania (1, 3 y 5). **Interprétalas:** ¿Qué patrones de consumo específicos del mercado alemán revelan estas reglas? ¿Son diferentes a los del Reino Unido?\n",
        "\n"
      ],
      "metadata": {
        "id": "L2QuMMj72KRc"
      }
    },
    {
      "cell_type": "markdown",
      "source": [
        "3.8 Interpreta el Soporte para el antecedente y el consecuente, la Confianza y el Lift"
      ],
      "metadata": {
        "id": "VjXuys6oS0Iq"
      }
    },
    {
      "cell_type": "markdown",
      "source": [
        "3.9 **Recomendación de Negocio:** ¿Qué campaña de marketing (diferente a la del Reino Unido) podrías diseñar para los clientes alemanes?"
      ],
      "metadata": {
        "id": "QPJgf2JY3AAX"
      }
    }
  ],
  "metadata": {
    "kernelspec": {
      "display_name": "Python 3",
      "language": "python",
      "name": "python3"
    },
    "language_info": {
      "codemirror_mode": {
        "name": "ipython",
        "version": 3
      },
      "file_extension": ".py",
      "mimetype": "text/x-python",
      "name": "python",
      "nbconvert_exporter": "python",
      "pygments_lexer": "ipython3",
      "version": "3.8.8"
    },
    "colab": {
      "provenance": [],
      "toc_visible": true
    }
  },
  "nbformat": 4,
  "nbformat_minor": 0
}